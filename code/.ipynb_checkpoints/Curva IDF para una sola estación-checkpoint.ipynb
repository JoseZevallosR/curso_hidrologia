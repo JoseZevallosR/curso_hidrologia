{
 "cells": [
  {
   "cell_type": "code",
   "execution_count": 2,
   "id": "latter-shirt",
   "metadata": {},
   "outputs": [],
   "source": [
    "#Liberia para gestionar fechas\n",
    "library(lubridate)\n",
    "#libreria para manejar bases de datos\n",
    "library(dplyr)\n",
    "#libreria para ajustar distribuciones\n",
    "library(MASS)"
   ]
  },
  {
   "cell_type": "code",
   "execution_count": 3,
   "id": "solar-hollow",
   "metadata": {},
   "outputs": [],
   "source": [
    "estacion=read.csv('D:/Proyectos_GitHub/curso_hidrologia/data/Estaciones/estacion9.csv')"
   ]
  },
  {
   "cell_type": "code",
   "execution_count": 4,
   "id": "northern-herald",
   "metadata": {},
   "outputs": [
    {
     "data": {
      "text/html": [
       "<table>\n",
       "<thead><tr><th scope=col>fecha</th><th scope=col>pp</th></tr></thead>\n",
       "<tbody>\n",
       "\t<tr><td>1/1/1964</td><td>0.0     </td></tr>\n",
       "\t<tr><td>1/2/1964</td><td>0.0     </td></tr>\n",
       "\t<tr><td>1/3/1964</td><td>0.0     </td></tr>\n",
       "\t<tr><td>1/4/1964</td><td>0.7     </td></tr>\n",
       "\t<tr><td>1/5/1964</td><td>1.2     </td></tr>\n",
       "\t<tr><td>1/6/1964</td><td>2.1     </td></tr>\n",
       "</tbody>\n",
       "</table>\n"
      ],
      "text/latex": [
       "\\begin{tabular}{r|ll}\n",
       " fecha & pp\\\\\n",
       "\\hline\n",
       "\t 1/1/1964 & 0.0     \\\\\n",
       "\t 1/2/1964 & 0.0     \\\\\n",
       "\t 1/3/1964 & 0.0     \\\\\n",
       "\t 1/4/1964 & 0.7     \\\\\n",
       "\t 1/5/1964 & 1.2     \\\\\n",
       "\t 1/6/1964 & 2.1     \\\\\n",
       "\\end{tabular}\n"
      ],
      "text/markdown": [
       "\n",
       "| fecha | pp |\n",
       "|---|---|\n",
       "| 1/1/1964 | 0.0      |\n",
       "| 1/2/1964 | 0.0      |\n",
       "| 1/3/1964 | 0.0      |\n",
       "| 1/4/1964 | 0.7      |\n",
       "| 1/5/1964 | 1.2      |\n",
       "| 1/6/1964 | 2.1      |\n",
       "\n"
      ],
      "text/plain": [
       "  fecha    pp \n",
       "1 1/1/1964 0.0\n",
       "2 1/2/1964 0.0\n",
       "3 1/3/1964 0.0\n",
       "4 1/4/1964 0.7\n",
       "5 1/5/1964 1.2\n",
       "6 1/6/1964 2.1"
      ]
     },
     "metadata": {},
     "output_type": "display_data"
    }
   ],
   "source": [
    "head(estacion)"
   ]
  },
  {
   "cell_type": "markdown",
   "id": "ordered-confidentiality",
   "metadata": {},
   "source": [
    "El operador %>% sirve para concatenar varias funciones y ahorrarnos lineas de comandos.\n",
    "Queremos calcular el maximo diario ocurrido en cada año de registro"
   ]
  },
  {
   "cell_type": "code",
   "execution_count": 5,
   "id": "crucial-runner",
   "metadata": {},
   "outputs": [],
   "source": [
    "max_anual=estacion%>%\n",
    "  mutate(fecha = as.Date(fecha, format=\"%m/%d/%Y\"))%>% \n",
    "  mutate(mes = month(fecha),ano=year(fecha))%>%\n",
    "  group_by(ano) %>%\n",
    "  summarise(precip= max(pp,na.rm=T))"
   ]
  },
  {
   "cell_type": "code",
   "execution_count": 6,
   "id": "crude-walnut",
   "metadata": {},
   "outputs": [
    {
     "data": {
      "text/html": [
       "<table>\n",
       "<thead><tr><th scope=col>ano</th><th scope=col>precip</th></tr></thead>\n",
       "<tbody>\n",
       "\t<tr><td>1964</td><td>23.0</td></tr>\n",
       "\t<tr><td>1965</td><td>31.4</td></tr>\n",
       "\t<tr><td>1966</td><td>38.0</td></tr>\n",
       "\t<tr><td>1967</td><td>42.1</td></tr>\n",
       "\t<tr><td>1968</td><td>24.6</td></tr>\n",
       "\t<tr><td>1969</td><td>25.1</td></tr>\n",
       "</tbody>\n",
       "</table>\n"
      ],
      "text/latex": [
       "\\begin{tabular}{r|ll}\n",
       " ano & precip\\\\\n",
       "\\hline\n",
       "\t 1964 & 23.0\\\\\n",
       "\t 1965 & 31.4\\\\\n",
       "\t 1966 & 38.0\\\\\n",
       "\t 1967 & 42.1\\\\\n",
       "\t 1968 & 24.6\\\\\n",
       "\t 1969 & 25.1\\\\\n",
       "\\end{tabular}\n"
      ],
      "text/markdown": [
       "\n",
       "| ano | precip |\n",
       "|---|---|\n",
       "| 1964 | 23.0 |\n",
       "| 1965 | 31.4 |\n",
       "| 1966 | 38.0 |\n",
       "| 1967 | 42.1 |\n",
       "| 1968 | 24.6 |\n",
       "| 1969 | 25.1 |\n",
       "\n"
      ],
      "text/plain": [
       "  ano  precip\n",
       "1 1964 23.0  \n",
       "2 1965 31.4  \n",
       "3 1966 38.0  \n",
       "4 1967 42.1  \n",
       "5 1968 24.6  \n",
       "6 1969 25.1  "
      ]
     },
     "metadata": {},
     "output_type": "display_data"
    }
   ],
   "source": [
    "head(max_anual)"
   ]
  },
  {
   "cell_type": "markdown",
   "id": "polar-fever",
   "metadata": {},
   "source": [
    "Ajuste de la distribucion normal en los datos"
   ]
  },
  {
   "cell_type": "code",
   "execution_count": 7,
   "id": "entire-receipt",
   "metadata": {},
   "outputs": [
    {
     "data": {
      "text/plain": [
       "      mean          sd    \n",
       "  33.0250000    7.5702575 \n",
       " ( 1.0498058) ( 0.7423248)"
      ]
     },
     "metadata": {},
     "output_type": "display_data"
    }
   ],
   "source": [
    "my_data=max_anual$precip\n",
    "fit <- fitdistr(my_data,densfun = 'normal')\n",
    "fit"
   ]
  },
  {
   "cell_type": "code",
   "execution_count": 8,
   "id": "german-preserve",
   "metadata": {},
   "outputs": [
    {
     "data": {
      "image/png": "[encoded data removed]",
      "text/plain": [
       "Plot with title \"\""
      ]
     },
     "metadata": {},
     "output_type": "display_data"
    }
   ],
   "source": [
    "hist(my_data, pch=20, breaks=25, prob=TRUE, main=\"\")\n",
    "curve(dnorm(x, fit$estimate[1], fit$estimate[2]), col=\"red\", lwd=2, add=T)"
   ]
  },
  {
   "cell_type": "markdown",
   "id": "psychological-fantasy",
   "metadata": {},
   "source": [
    "# Usando la liberia fitdistrplus "
   ]
  },
  {
   "cell_type": "code",
   "execution_count": 9,
   "id": "fifth-handy",
   "metadata": {},
   "outputs": [
    {
     "name": "stderr",
     "output_type": "stream",
     "text": [
      "Loading required package: survival\n"
     ]
    }
   ],
   "source": [
    "library(fitdistrplus)"
   ]
  },
  {
   "cell_type": "markdown",
   "id": "sporting-hypothetical",
   "metadata": {},
   "source": [
    "Probando las distribuciones weibull, gamma y lognormal"
   ]
  },
  {
   "cell_type": "code",
   "execution_count": 10,
   "id": "touched-window",
   "metadata": {},
   "outputs": [],
   "source": [
    "dgumbel <- function(x, a, b) 1/b*exp((a-x)/b)*exp(-exp((a-x)/b))\n",
    "pgumbel <- function(q, a, b) exp(-exp((a-q)/b))\n",
    "qgumbel <- function(p, a, b) a-b*log(-log(p))"
   ]
  },
  {
   "cell_type": "code",
   "execution_count": 12,
   "id": "extraordinary-company",
   "metadata": {},
   "outputs": [
    {
     "name": "stdout",
     "output_type": "stream",
     "text": [
      "$start.arg\n",
      "$start.arg$shape\n",
      "[1] 5.087535\n",
      "\n",
      "$start.arg$scale\n",
      "[1] 35.97698\n",
      "\n",
      "\n",
      "$fix.arg\n",
      "NULL\n",
      "\n",
      "$start.arg\n",
      "$start.arg$shape\n",
      "[1] 19.03112\n",
      "\n",
      "$start.arg$rate\n",
      "[1] 0.576264\n",
      "\n",
      "\n",
      "$fix.arg\n",
      "NULL\n",
      "\n",
      "$start.arg\n",
      "$start.arg$meanlog\n",
      "[1] 3.470448\n",
      "\n",
      "$start.arg$sdlog\n",
      "[1] 0.2335916\n",
      "\n",
      "\n",
      "$fix.arg\n",
      "NULL\n",
      "\n",
      "$start.arg\n",
      "$start.arg$a\n",
      "[1] 30\n",
      "\n",
      "$start.arg$b\n",
      "[1] 10\n",
      "\n",
      "\n",
      "$fix.arg\n",
      "NULL\n",
      "\n"
     ]
    }
   ],
   "source": [
    "fit_w  <- fitdist(my_data, \"weibull\")\n",
    "fit_g  <- fitdist(my_data, \"gamma\")\n",
    "fit_ln <- fitdist(my_data, \"lnorm\")\n",
    "fit_gum <- fitdist(my_data, \"gumbel\",start=list(a=30, b=10))\n",
    "#summary(fit_ln)"
   ]
  },
  {
   "cell_type": "markdown",
   "id": "prime-effort",
   "metadata": {},
   "source": [
    "Graficando los resultados"
   ]
  },
  {
   "cell_type": "code",
   "execution_count": 13,
   "id": "significant-deputy",
   "metadata": {},
   "outputs": [
    {
     "data": {
      "image/png": "[encoded data removed]",
      "text/plain": [
       "Plot with title \"P-P plot\""
      ]
     },
     "metadata": {},
     "output_type": "display_data"
    }
   ],
   "source": [
    "par(mfrow=c(2,2))\n",
    "plot.legend <- c(\"Weibull\", \"lognormal\", \"gamma\",'gumbel')\n",
    "denscomp(list(fit_w, fit_g, fit_ln,fit_gum), legendtext = plot.legend)\n",
    "cdfcomp (list(fit_w, fit_g, fit_ln,fit_gum), legendtext = plot.legend)\n",
    "qqcomp  (list(fit_w, fit_g, fit_ln,fit_gum), legendtext = plot.legend)\n",
    "ppcomp  (list(fit_w, fit_g, fit_ln,fit_gum), legendtext = plot.legend)"
   ]
  },
  {
   "cell_type": "markdown",
   "id": "dedicated-thing",
   "metadata": {},
   "source": [
    "El paquete también proporciona algunas estadísticas interesantes:"
   ]
  },
  {
   "cell_type": "code",
   "execution_count": 14,
   "id": "thorough-growth",
   "metadata": {},
   "outputs": [
    {
     "data": {
      "text/plain": [
       "Goodness-of-fit statistics\n",
       "                                Weibull      gamma  lognormal     gumbel\n",
       "Kolmogorov-Smirnov statistic 0.09453402 0.08296080 0.09324416 0.10220194\n",
       "Cramer-von Mises statistic   0.06175074 0.06636964 0.07316471 0.07985872\n",
       "Anderson-Darling statistic   0.41448822 0.34705130 0.39052484 0.46288936\n",
       "\n",
       "Goodness-of-fit criteria\n",
       "                                Weibull    gamma lognormal   gumbel\n",
       "Akaike's Information Criterion 363.5471 360.8297  361.2613 362.8522\n",
       "Bayesian Information Criterion 367.4496 364.7321  365.1638 366.7547"
      ]
     },
     "metadata": {},
     "output_type": "display_data"
    }
   ],
   "source": [
    "gofstat(list(fit_w, fit_g, fit_ln,fit_gum), fitnames = c(\"Weibull\",\"gamma\", \"lognormal\",'gumbel'))"
   ]
  },
  {
   "cell_type": "markdown",
   "id": "retained-estate",
   "metadata": {},
   "source": [
    "# Periodos de retorno usando gumbel"
   ]
  },
  {
   "cell_type": "markdown",
   "id": "devoted-bulletin",
   "metadata": {},
   "source": [
    "Probabilidad de excedencia\n",
    "\n",
    "$$\\Large P(x \\geq X)= \\frac{1}{Tr}$$"
   ]
  },
  {
   "cell_type": "markdown",
   "id": "later-lyric",
   "metadata": {},
   "source": [
    "Donde Tr es el tiempo de retorno"
   ]
  },
  {
   "cell_type": "markdown",
   "id": "moving-twelve",
   "metadata": {},
   "source": [
    "<b> Distribución acumulada de gumbel</b>\n",
    "\n",
    "$$\\Large F(x) = e^{-e^{(a-x)/b}} $$"
   ]
  },
  {
   "cell_type": "markdown",
   "id": "floral-surprise",
   "metadata": {},
   "source": [
    "despejando x se obtiene:\n",
    "    \n",
    "$$\\Large x = a-bLn(-Ln(F(x))) $$"
   ]
  },
  {
   "cell_type": "markdown",
   "id": "honest-machine",
   "metadata": {},
   "source": [
    "Implementando en una función el valor de x"
   ]
  },
  {
   "cell_type": "code",
   "execution_count": 49,
   "id": "enabling-target",
   "metadata": {},
   "outputs": [],
   "source": [
    "x_de_retorno<- function(Fx, a, b){\n",
    "  a-b*log(-log(Fx))\n",
    "}"
   ]
  },
  {
   "cell_type": "markdown",
   "id": "diagnostic-prospect",
   "metadata": {},
   "source": [
    "Para un Tr de 50 años se tiene que P(x>=X) = 1/50. Este valor corresponde a el área bajo la curva de la distribución hacia la cola derecha. Para encontrar el valor del área de la cola izquierda tenemos que sustraer a 1 el valor de 1/50.\n",
    "\n",
    "Expresado en ecuación:\n",
    "\n",
    "$$\\Large F(x) = 1-P(x \\geq X) $$"
   ]
  },
  {
   "cell_type": "code",
   "execution_count": 35,
   "id": "scenic-habitat",
   "metadata": {},
   "outputs": [
    {
     "data": {
      "text/html": [
       "60.0490773457897"
      ],
      "text/latex": [
       "60.0490773457897"
      ],
      "text/markdown": [
       "60.0490773457897"
      ],
      "text/plain": [
       "[1] 60.04908"
      ]
     },
     "metadata": {},
     "output_type": "display_data"
    }
   ],
   "source": [
    "x_de_retorno(0.99,a=fit_gum$estimate[['a']],fit_gum$estimate[['b']])"
   ]
  },
  {
   "cell_type": "code",
   "execution_count": 47,
   "id": "impaired-summary",
   "metadata": {},
   "outputs": [],
   "source": [
    "a=fit_gum$estimate[['a']]\n",
    "b=fit_gum$estimate[['b']]\n",
    "\n",
    "Trs=c(5,10,50,100,200)\n",
    "Px = 1/Trs\n",
    "Fx= 1-Px\n",
    "\n",
    "tabla = data.frame(Trs,Px,Fx)\n",
    "tabla['x']=lapply(tabla['Fx'],x_de_retorno,a,b)"
   ]
  },
  {
   "cell_type": "code",
   "execution_count": 48,
   "id": "precise-sussex",
   "metadata": {},
   "outputs": [
    {
     "data": {
      "text/html": [
       "<table>\n",
       "<thead><tr><th scope=col>Trs</th><th scope=col>Px</th><th scope=col>Fx</th><th scope=col>x</th></tr></thead>\n",
       "<tbody>\n",
       "\t<tr><td>  5     </td><td>0.200   </td><td>0.800   </td><td>39.35291</td></tr>\n",
       "\t<tr><td> 10     </td><td>0.100   </td><td>0.900   </td><td>44.36256</td></tr>\n",
       "\t<tr><td> 50     </td><td>0.020   </td><td>0.980   </td><td>55.38801</td></tr>\n",
       "\t<tr><td>100     </td><td>0.010   </td><td>0.990   </td><td>60.04908</td></tr>\n",
       "\t<tr><td>200     </td><td>0.005   </td><td>0.995   </td><td>64.69314</td></tr>\n",
       "</tbody>\n",
       "</table>\n"
      ],
      "text/latex": [
       "\\begin{tabular}{r|llll}\n",
       " Trs & Px & Fx & x\\\\\n",
       "\\hline\n",
       "\t   5      & 0.200    & 0.800    & 39.35291\\\\\n",
       "\t  10      & 0.100    & 0.900    & 44.36256\\\\\n",
       "\t  50      & 0.020    & 0.980    & 55.38801\\\\\n",
       "\t 100      & 0.010    & 0.990    & 60.04908\\\\\n",
       "\t 200      & 0.005    & 0.995    & 64.69314\\\\\n",
       "\\end{tabular}\n"
      ],
      "text/markdown": [
       "\n",
       "| Trs | Px | Fx | x |\n",
       "|---|---|---|---|\n",
       "|   5      | 0.200    | 0.800    | 39.35291 |\n",
       "|  10      | 0.100    | 0.900    | 44.36256 |\n",
       "|  50      | 0.020    | 0.980    | 55.38801 |\n",
       "| 100      | 0.010    | 0.990    | 60.04908 |\n",
       "| 200      | 0.005    | 0.995    | 64.69314 |\n",
       "\n"
      ],
      "text/plain": [
       "  Trs Px    Fx    x       \n",
       "1   5 0.200 0.800 39.35291\n",
       "2  10 0.100 0.900 44.36256\n",
       "3  50 0.020 0.980 55.38801\n",
       "4 100 0.010 0.990 60.04908\n",
       "5 200 0.005 0.995 64.69314"
      ]
     },
     "metadata": {},
     "output_type": "display_data"
    }
   ],
   "source": [
    "tabla"
   ]
  },
  {
   "cell_type": "code",
   "execution_count": null,
   "id": "gross-glenn",
   "metadata": {},
   "outputs": [],
   "source": []
  }
 ],
 "metadata": {
  "kernelspec": {
   "display_name": "R",
   "language": "R",
   "name": "ir"
  },
  "language_info": {
   "codemirror_mode": "r",
   "file_extension": ".r",
   "mimetype": "text/x-r-source",
   "name": "R",
   "pygments_lexer": "r",
   "version": "3.6.1"
  }
 },
 "nbformat": 4,
 "nbformat_minor": 5
}
