{
 "cells": [
  {
   "cell_type": "markdown",
   "id": "entitled-doubt",
   "metadata": {},
   "source": [
    "# Introducción"
   ]
  },
  {
   "attachments": {},
   "cell_type": "markdown",
   "id": "multiple-tobago",
   "metadata": {},
   "source": [
    "R tiene 5 clases básicas o atómicas de objetos:\n",
    "<ul>\n",
    "  <li>character</li>\n",
    "  <li>numeric</li>\n",
    "  <li>integer</li>\n",
    "  <li>complex</li>\n",
    "  <li> logical (verdadero/falso)</li>\n",
    "</ul>"
   ]
  },
  {
   "cell_type": "markdown",
   "id": "pleasant-corner",
   "metadata": {},
   "source": [
    "Ejemplo de objeto tiplo character"
   ]
  },
  {
   "cell_type": "code",
   "execution_count": 1,
   "id": "public-republican",
   "metadata": {},
   "outputs": [
    {
     "data": {
      "text/html": [
       "'Hola mundo'"
      ],
      "text/latex": [
       "'Hola mundo'"
      ],
      "text/markdown": [
       "'Hola mundo'"
      ],
      "text/plain": [
       "[1] \"Hola mundo\""
      ]
     },
     "metadata": {},
     "output_type": "display_data"
    }
   ],
   "source": [
    "\"Hola mundo\""
   ]
  },
  {
   "cell_type": "markdown",
   "id": "gross-dominant",
   "metadata": {},
   "source": [
    "Ejemplo de objeto tipo numeric"
   ]
  },
  {
   "cell_type": "code",
   "execution_count": 2,
   "id": "thick-secret",
   "metadata": {},
   "outputs": [
    {
     "data": {
      "text/html": [
       "4"
      ],
      "text/latex": [
       "4"
      ],
      "text/markdown": [
       "4"
      ],
      "text/plain": [
       "[1] 4"
      ]
     },
     "metadata": {},
     "output_type": "display_data"
    }
   ],
   "source": [
    "4"
   ]
  },
  {
   "cell_type": "markdown",
   "id": "international-parcel",
   "metadata": {},
   "source": [
    "Ejemplo de objeto tipo logical VERDADERO"
   ]
  },
  {
   "cell_type": "code",
   "execution_count": 3,
   "id": "numerous-retirement",
   "metadata": {},
   "outputs": [
    {
     "data": {
      "text/html": [
       "TRUE"
      ],
      "text/latex": [
       "TRUE"
      ],
      "text/markdown": [
       "TRUE"
      ],
      "text/plain": [
       "[1] TRUE"
      ]
     },
     "metadata": {},
     "output_type": "display_data"
    }
   ],
   "source": [
    "TRUE"
   ]
  },
  {
   "cell_type": "markdown",
   "id": "printable-tennessee",
   "metadata": {},
   "source": [
    "<P> Atributos </p>\n",
    "Los objetos de R pueden tener atributos como:\n",
    "<ul>\n",
    "  <li>Nombre</li>\n",
    "  <li>Dimensiones ( por ejemplo el número de filas y columnas de una matriz)</li>\n",
    "  <li>Longitud</li>\n",
    "</ul>"
   ]
  },
  {
   "cell_type": "markdown",
   "id": "occupied-dictionary",
   "metadata": {},
   "source": [
    "## Creando vectores"
   ]
  },
  {
   "cell_type": "code",
   "execution_count": 4,
   "id": "binding-marble",
   "metadata": {},
   "outputs": [
    {
     "data": {
      "text/html": [
       "<ol class=list-inline>\n",
       "\t<li>0.5</li>\n",
       "\t<li>0.6</li>\n",
       "</ol>\n"
      ],
      "text/latex": [
       "\\begin{enumerate*}\n",
       "\\item 0.5\n",
       "\\item 0.6\n",
       "\\end{enumerate*}\n"
      ],
      "text/markdown": [
       "1. 0.5\n",
       "2. 0.6\n",
       "\n",
       "\n"
      ],
      "text/plain": [
       "[1] 0.5 0.6"
      ]
     },
     "metadata": {},
     "output_type": "display_data"
    }
   ],
   "source": [
    "x = c(0.5,0.6)\n",
    "x"
   ]
  },
  {
   "cell_type": "code",
   "execution_count": 5,
   "id": "distributed-gauge",
   "metadata": {},
   "outputs": [
    {
     "data": {
      "text/html": [
       "<ol class=list-inline>\n",
       "\t<li>'a'</li>\n",
       "\t<li>'b'</li>\n",
       "\t<li>'c'</li>\n",
       "</ol>\n"
      ],
      "text/latex": [
       "\\begin{enumerate*}\n",
       "\\item 'a'\n",
       "\\item 'b'\n",
       "\\item 'c'\n",
       "\\end{enumerate*}\n"
      ],
      "text/markdown": [
       "1. 'a'\n",
       "2. 'b'\n",
       "3. 'c'\n",
       "\n",
       "\n"
      ],
      "text/plain": [
       "[1] \"a\" \"b\" \"c\""
      ]
     },
     "metadata": {},
     "output_type": "display_data"
    }
   ],
   "source": [
    "x = c('a','b','c')\n",
    "x"
   ]
  },
  {
   "cell_type": "markdown",
   "id": "exciting-algebra",
   "metadata": {},
   "source": [
    "## Creando matrices"
   ]
  },
  {
   "cell_type": "code",
   "execution_count": 6,
   "id": "inner-publication",
   "metadata": {},
   "outputs": [
    {
     "data": {
      "text/html": [
       "<table>\n",
       "<tbody>\n",
       "\t<tr><td>NA</td><td>NA</td><td>NA</td><td>NA</td></tr>\n",
       "\t<tr><td>NA</td><td>NA</td><td>NA</td><td>NA</td></tr>\n",
       "\t<tr><td>NA</td><td>NA</td><td>NA</td><td>NA</td></tr>\n",
       "</tbody>\n",
       "</table>\n"
      ],
      "text/latex": [
       "\\begin{tabular}{llll}\n",
       "\t NA & NA & NA & NA\\\\\n",
       "\t NA & NA & NA & NA\\\\\n",
       "\t NA & NA & NA & NA\\\\\n",
       "\\end{tabular}\n"
      ],
      "text/markdown": [
       "\n",
       "| NA | NA | NA | NA |\n",
       "| NA | NA | NA | NA |\n",
       "| NA | NA | NA | NA |\n",
       "\n"
      ],
      "text/plain": [
       "     [,1] [,2] [,3] [,4]\n",
       "[1,] NA   NA   NA   NA  \n",
       "[2,] NA   NA   NA   NA  \n",
       "[3,] NA   NA   NA   NA  "
      ]
     },
     "metadata": {},
     "output_type": "display_data"
    }
   ],
   "source": [
    "m = matrix(nrow = 3, ncol = 4)\n",
    "m"
   ]
  },
  {
   "cell_type": "code",
   "execution_count": 7,
   "id": "available-terry",
   "metadata": {},
   "outputs": [
    {
     "data": {
      "text/html": [
       "<ol class=list-inline>\n",
       "\t<li>3</li>\n",
       "\t<li>4</li>\n",
       "</ol>\n"
      ],
      "text/latex": [
       "\\begin{enumerate*}\n",
       "\\item 3\n",
       "\\item 4\n",
       "\\end{enumerate*}\n"
      ],
      "text/markdown": [
       "1. 3\n",
       "2. 4\n",
       "\n",
       "\n"
      ],
      "text/plain": [
       "[1] 3 4"
      ]
     },
     "metadata": {},
     "output_type": "display_data"
    }
   ],
   "source": [
    "dim(m) # calcula las dimensiones (filas x columnas)"
   ]
  },
  {
   "cell_type": "code",
   "execution_count": 8,
   "id": "extra-trust",
   "metadata": {},
   "outputs": [
    {
     "data": {
      "text/html": [
       "<table>\n",
       "<tbody>\n",
       "\t<tr><td>1</td><td>3</td><td>5</td></tr>\n",
       "\t<tr><td>2</td><td>4</td><td>6</td></tr>\n",
       "</tbody>\n",
       "</table>\n"
      ],
      "text/latex": [
       "\\begin{tabular}{lll}\n",
       "\t 1 & 3 & 5\\\\\n",
       "\t 2 & 4 & 6\\\\\n",
       "\\end{tabular}\n"
      ],
      "text/markdown": [
       "\n",
       "| 1 | 3 | 5 |\n",
       "| 2 | 4 | 6 |\n",
       "\n"
      ],
      "text/plain": [
       "     [,1] [,2] [,3]\n",
       "[1,] 1    3    5   \n",
       "[2,] 2    4    6   "
      ]
     },
     "metadata": {},
     "output_type": "display_data"
    }
   ],
   "source": [
    "m = matrix(1:6, nrow = 2, ncol = 3)\n",
    "m"
   ]
  },
  {
   "cell_type": "markdown",
   "id": "exposed-designation",
   "metadata": {},
   "source": [
    "## Funciones para combinar vectores"
   ]
  },
  {
   "cell_type": "code",
   "execution_count": 9,
   "id": "descending-seventh",
   "metadata": {},
   "outputs": [],
   "source": [
    "# Para unir dos o más vecotres en columnas separadas se utiliza cbind. \n",
    "#Se requiere que los vectores a unir tengan la misma longitud"
   ]
  },
  {
   "cell_type": "code",
   "execution_count": 10,
   "id": "olympic-venice",
   "metadata": {},
   "outputs": [
    {
     "data": {
      "text/html": [
       "<table>\n",
       "<thead><tr><th scope=col>x</th><th scope=col>y</th></tr></thead>\n",
       "<tbody>\n",
       "\t<tr><td>1 </td><td>10</td></tr>\n",
       "\t<tr><td>2 </td><td>11</td></tr>\n",
       "\t<tr><td>3 </td><td>12</td></tr>\n",
       "</tbody>\n",
       "</table>\n"
      ],
      "text/latex": [
       "\\begin{tabular}{ll}\n",
       " x & y\\\\\n",
       "\\hline\n",
       "\t 1  & 10\\\\\n",
       "\t 2  & 11\\\\\n",
       "\t 3  & 12\\\\\n",
       "\\end{tabular}\n"
      ],
      "text/markdown": [
       "\n",
       "| x | y |\n",
       "|---|---|\n",
       "| 1  | 10 |\n",
       "| 2  | 11 |\n",
       "| 3  | 12 |\n",
       "\n"
      ],
      "text/plain": [
       "     x y \n",
       "[1,] 1 10\n",
       "[2,] 2 11\n",
       "[3,] 3 12"
      ]
     },
     "metadata": {},
     "output_type": "display_data"
    }
   ],
   "source": [
    "x = 1:3\n",
    "y = 10:12\n",
    "cbind(x,y)"
   ]
  },
  {
   "cell_type": "code",
   "execution_count": 11,
   "id": "cubic-experience",
   "metadata": {},
   "outputs": [],
   "source": [
    "# Para unir dos o más vecotres en filas separadas se utiliza rbind."
   ]
  },
  {
   "cell_type": "code",
   "execution_count": 12,
   "id": "royal-passing",
   "metadata": {},
   "outputs": [
    {
     "data": {
      "text/html": [
       "<table>\n",
       "<tbody>\n",
       "\t<tr><th scope=row>x</th><td> 1</td><td> 2</td><td> 3</td></tr>\n",
       "\t<tr><th scope=row>y</th><td>10</td><td>11</td><td>12</td></tr>\n",
       "</tbody>\n",
       "</table>\n"
      ],
      "text/latex": [
       "\\begin{tabular}{r|lll}\n",
       "\tx &  1 &  2 &  3\\\\\n",
       "\ty & 10 & 11 & 12\\\\\n",
       "\\end{tabular}\n"
      ],
      "text/markdown": [
       "\n",
       "| x |  1 |  2 |  3 |\n",
       "| y | 10 | 11 | 12 |\n",
       "\n"
      ],
      "text/plain": [
       "  [,1] [,2] [,3]\n",
       "x  1    2    3  \n",
       "y 10   11   12  "
      ]
     },
     "metadata": {},
     "output_type": "display_data"
    }
   ],
   "source": [
    "rbind(x,y)"
   ]
  },
  {
   "cell_type": "markdown",
   "id": "pursuant-gates",
   "metadata": {},
   "source": [
    "# Data Frames"
   ]
  },
  {
   "attachments": {},
   "cell_type": "markdown",
   "id": "fresh-workplace",
   "metadata": {},
   "source": [
    "Data frames son utilizados para almacenar datos tabulares\n",
    "<ul>\n",
    "  <li>Son una representación especial de listas donde todos los elementos de las listas tienen que tener igual longitud</li>\n",
    "  <li>A diferencia de las matrices, data frames pueden ser para almacenar diferentes tipos de clases de objetos en cada columna</li>\n",
    "  <li>Data frames también cuentan con un atributo especial llamado row.names</li>\n",
    "  <li>Data frames son usualmente creados utilizando la función read.table() o read.csv()</li>\n",
    "  <li> Pueden ser convertidos a matrices utilizando data.matrix()</li>\n",
    "</ul>"
   ]
  },
  {
   "cell_type": "code",
   "execution_count": 13,
   "id": "fatty-bookmark",
   "metadata": {},
   "outputs": [
    {
     "data": {
      "text/html": [
       "<table>\n",
       "<thead><tr><th scope=col>foo</th><th scope=col>bar</th></tr></thead>\n",
       "<tbody>\n",
       "\t<tr><td>1    </td><td> TRUE</td></tr>\n",
       "\t<tr><td>2    </td><td> TRUE</td></tr>\n",
       "\t<tr><td>3    </td><td>FALSE</td></tr>\n",
       "\t<tr><td>4    </td><td>FALSE</td></tr>\n",
       "</tbody>\n",
       "</table>\n"
      ],
      "text/latex": [
       "\\begin{tabular}{r|ll}\n",
       " foo & bar\\\\\n",
       "\\hline\n",
       "\t 1     &  TRUE\\\\\n",
       "\t 2     &  TRUE\\\\\n",
       "\t 3     & FALSE\\\\\n",
       "\t 4     & FALSE\\\\\n",
       "\\end{tabular}\n"
      ],
      "text/markdown": [
       "\n",
       "| foo | bar |\n",
       "|---|---|\n",
       "| 1     |  TRUE |\n",
       "| 2     |  TRUE |\n",
       "| 3     | FALSE |\n",
       "| 4     | FALSE |\n",
       "\n"
      ],
      "text/plain": [
       "  foo bar  \n",
       "1 1    TRUE\n",
       "2 2    TRUE\n",
       "3 3   FALSE\n",
       "4 4   FALSE"
      ]
     },
     "metadata": {},
     "output_type": "display_data"
    }
   ],
   "source": [
    "x = data.frame(foo = 1:4, bar = c(T,T,F,F))\n",
    "x"
   ]
  },
  {
   "cell_type": "markdown",
   "id": "opponent-consultancy",
   "metadata": {},
   "source": [
    "## Estructuras condicionales"
   ]
  },
  {
   "cell_type": "markdown",
   "id": "confidential-pregnancy",
   "metadata": {},
   "source": [
    "Es valido para estructuras if/else (si/si no)"
   ]
  },
  {
   "cell_type": "code",
   "execution_count": 14,
   "id": "naval-passenger",
   "metadata": {},
   "outputs": [
    {
     "name": "stdout",
     "output_type": "stream",
     "text": [
      "[1] 10\n"
     ]
    }
   ],
   "source": [
    "x=10\n",
    "if (x > 3){\n",
    "    y = 10\n",
    "} else {\n",
    "    y = 0\n",
    "}\n",
    "print(y)"
   ]
  },
  {
   "cell_type": "markdown",
   "id": "headed-keeping",
   "metadata": {},
   "source": [
    "## Estructuras de control: For"
   ]
  },
  {
   "cell_type": "markdown",
   "id": "included-chase",
   "metadata": {},
   "source": [
    "Bucles <b> for </b> toman una variable iteradora a la cual asigna valores sucesivos de una secuencia o vector. Los bucles <b> for </b> son utilizados comúnmente para iterar sobre elementos de un objeto (lista, vector, etc.)"
   ]
  },
  {
   "cell_type": "markdown",
   "id": "german-british",
   "metadata": {},
   "source": [
    "<b> ejemplo 1 </b>"
   ]
  },
  {
   "cell_type": "code",
   "execution_count": 15,
   "id": "cleared-fitness",
   "metadata": {},
   "outputs": [
    {
     "name": "stdout",
     "output_type": "stream",
     "text": [
      "[1] 1\n",
      "[1] 2\n",
      "[1] 3\n",
      "[1] 4\n",
      "[1] 5\n",
      "[1] 6\n",
      "[1] 7\n",
      "[1] 8\n",
      "[1] 9\n",
      "[1] 10\n"
     ]
    }
   ],
   "source": [
    "for (i in 1:10){\n",
    "    print(i)\n",
    "}"
   ]
  },
  {
   "cell_type": "markdown",
   "id": "visible-defensive",
   "metadata": {},
   "source": [
    "Este bucle toma la variable i en cada iteración y le da valores 1,2,3 ... 10 y finalmente termina."
   ]
  },
  {
   "cell_type": "markdown",
   "id": "nervous-tackle",
   "metadata": {},
   "source": [
    "<b> ejemplo 2 </b>"
   ]
  },
  {
   "cell_type": "code",
   "execution_count": 16,
   "id": "verbal-gamma",
   "metadata": {},
   "outputs": [
    {
     "name": "stdout",
     "output_type": "stream",
     "text": [
      "[1] \"a\"\n",
      "[1] \"b\"\n",
      "[1] \"c\"\n",
      "[1] \"d\"\n"
     ]
    }
   ],
   "source": [
    "x = c('a','b','c','d')\n",
    "\n",
    "for (i in 1:4){\n",
    "    print(x[i])\n",
    "}"
   ]
  },
  {
   "cell_type": "code",
   "execution_count": 17,
   "id": "vulnerable-entity",
   "metadata": {},
   "outputs": [
    {
     "name": "stdout",
     "output_type": "stream",
     "text": [
      "[1] \"a\"\n",
      "[1] \"b\"\n",
      "[1] \"c\"\n",
      "[1] \"d\"\n"
     ]
    }
   ],
   "source": [
    "for (letter in x){\n",
    "    print(letter)\n",
    "}"
   ]
  },
  {
   "cell_type": "markdown",
   "id": "ranging-testament",
   "metadata": {},
   "source": [
    "## Bucles anidados for"
   ]
  },
  {
   "cell_type": "code",
   "execution_count": 18,
   "id": "specialized-radar",
   "metadata": {},
   "outputs": [
    {
     "name": "stdout",
     "output_type": "stream",
     "text": [
      "[1] 1\n",
      "[1] 3\n",
      "[1] 5\n",
      "[1] 2\n",
      "[1] 4\n",
      "[1] 6\n"
     ]
    }
   ],
   "source": [
    "x = matrix(1:6,2,3)\n",
    "\n",
    "for (i in 1:nrow(x)){\n",
    "    for (j in 1:ncol(x)){\n",
    "        print(x[i,j])\n",
    "    }\n",
    "}"
   ]
  },
  {
   "cell_type": "markdown",
   "id": "reflected-lobby",
   "metadata": {},
   "source": [
    "<b> Nota </b> El lenguaje R es relativamente lento comparado con un lenguaje compilado como c++, es por ello que no se sugiere anidar más de 3 niveles en bucles for"
   ]
  },
  {
   "cell_type": "markdown",
   "id": "ultimate-heaven",
   "metadata": {},
   "source": [
    "# Funciones"
   ]
  },
  {
   "cell_type": "markdown",
   "id": "severe-tuesday",
   "metadata": {},
   "source": [
    "Las funciones en R son creados utilizando la directiva function() y es alamacenado como un objeto de R.\n",
    "<ul>\n",
    "  <li>Las funciones pueden ser utilizadas dentro de otras funciones como argumento</li>\n",
    "  <li>Las funcionesp ueden ser anidadas, es decir puedo definir funciones dentro de otras funciones</li>\n",
    "</ul>"
   ]
  },
  {
   "cell_type": "markdown",
   "id": "resident-chaos",
   "metadata": {},
   "source": [
    "<b>Argumentos de funciones</b>\n",
    "\n",
    "Las funciones tienen argumentos nombrados que pueden tener valores pre definidos\n",
    "<ul>\n",
    "  <li> Los argumentos formales son los que estan definidos en la definicio de la función</li>\n",
    "  <li> No todas las funciones de R utilizan todos los argumentos</li>\n",
    "  <li> Argumentos de funciones pueden ser no declarados</li>\n",
    "</ul>"
   ]
  },
  {
   "cell_type": "markdown",
   "id": "missing-awareness",
   "metadata": {},
   "source": [
    "<b> ejemplo 1 </b>\n",
    "\n",
    "$$ f(a,b)=a^b $$"
   ]
  },
  {
   "cell_type": "code",
   "execution_count": 19,
   "id": "assumed-volunteer",
   "metadata": {},
   "outputs": [
    {
     "data": {
      "text/html": [
       "8"
      ],
      "text/latex": [
       "8"
      ],
      "text/markdown": [
       "8"
      ],
      "text/plain": [
       "[1] 8"
      ]
     },
     "metadata": {},
     "output_type": "display_data"
    }
   ],
   "source": [
    "potencia= function(a,b){\n",
    "    a**b\n",
    "}\n",
    "\n",
    "potencia(2,3)"
   ]
  },
  {
   "cell_type": "markdown",
   "id": "national-topic",
   "metadata": {},
   "source": [
    "## ¿ Dondé puedo revisar más sobre lenguaje R de manera gratuita?\n",
    "Existen tutoriales en español en youtube que uno puede revisar para absolver dudas. Otra opción es el <a href='https://www.coursera.org/learn/r-programming?specialization=jhu-data-science&utm_source=gg&utm_medium=sem&utm_campaign=03-DataScience-JHU-LATAM&utm_content=B2C&campaignid=15237914086&adgroupid=129330348163&device=c&keyword=learn%20r%20programming%20online&matchtype=p&network=g&devicemodel=&adpostion=&creativeid=560943553152&hide_mobile_promo&gclid=Cj0KCQiAxoiQBhCRARIsAPsvo-wj0rg--OyycICV3fXinF_lqM0SGi6-_7XcVKRG_do3-IixXUolBJwaAu5lEALw_wcB'> curso de la universidad de Jhon hopkins </a>. Sin embargo, se requiere el manejo de ingles. Recomendación es revisarlo con subtitulos.\n",
    "\n"
   ]
  }
 ],
 "metadata": {
  "kernelspec": {
   "display_name": "R",
   "language": "R",
   "name": "ir"
  },
  "language_info": {
   "codemirror_mode": "r",
   "file_extension": ".r",
   "mimetype": "text/x-r-source",
   "name": "R",
   "pygments_lexer": "r",
   "version": "3.6.1"
  }
 },
 "nbformat": 4,
 "nbformat_minor": 5
}
