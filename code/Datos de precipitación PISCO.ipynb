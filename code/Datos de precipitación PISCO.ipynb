{
 "cells": [
  {
   "cell_type": "code",
   "execution_count": 14,
   "id": "943dc2b8",
   "metadata": {},
   "outputs": [],
   "source": [
    "library(sp)\n",
    "library(rgdal)\n",
    "library(raster)"
   ]
  },
  {
   "cell_type": "code",
   "execution_count": 15,
   "id": "073f61e2",
   "metadata": {},
   "outputs": [],
   "source": [
    "PISCO.file <- \"D://PISCO/PPISCOpd.nc\""
   ]
  },
  {
   "cell_type": "code",
   "execution_count": 16,
   "id": "986506fd",
   "metadata": {},
   "outputs": [
    {
     "data": {
      "text/html": [
       "<table class=\"dataframe\">\n",
       "<caption>A data.frame: 6 × 4</caption>\n",
       "<thead>\n",
       "\t<tr><th scope=col>Estacion</th><th scope=col>x</th><th scope=col>y</th><th scope=col>Alt</th></tr>\n",
       "\t<tr><th scope=col>&lt;chr&gt;</th><th scope=col>&lt;dbl&gt;</th><th scope=col>&lt;dbl&gt;</th><th scope=col>&lt;int&gt;</th></tr>\n",
       "</thead>\n",
       "<tbody>\n",
       "\t<tr><td>San Miguel     </td><td>-73.98333</td><td>-13.01667</td><td>3323</td></tr>\n",
       "\t<tr><td>Hacienda Cochas</td><td>-73.88333</td><td>-13.03333</td><td>3323</td></tr>\n",
       "\t<tr><td>La Quinua      </td><td>-74.14139</td><td>-13.05528</td><td>3240</td></tr>\n",
       "\t<tr><td>Wayllapampa    </td><td>-74.21667</td><td>-13.07639</td><td>2470</td></tr>\n",
       "\t<tr><td>Huamanga       </td><td>-74.23694</td><td>-13.15000</td><td>2761</td></tr>\n",
       "\t<tr><td>Allpachaca     </td><td>-74.26667</td><td>-13.38333</td><td>3600</td></tr>\n",
       "</tbody>\n",
       "</table>\n"
      ],
      "text/latex": [
       "A data.frame: 6 × 4\n",
       "\\begin{tabular}{llll}\n",
       " Estacion & x & y & Alt\\\\\n",
       " <chr> & <dbl> & <dbl> & <int>\\\\\n",
       "\\hline\n",
       "\t San Miguel      & -73.98333 & -13.01667 & 3323\\\\\n",
       "\t Hacienda Cochas & -73.88333 & -13.03333 & 3323\\\\\n",
       "\t La Quinua       & -74.14139 & -13.05528 & 3240\\\\\n",
       "\t Wayllapampa     & -74.21667 & -13.07639 & 2470\\\\\n",
       "\t Huamanga        & -74.23694 & -13.15000 & 2761\\\\\n",
       "\t Allpachaca      & -74.26667 & -13.38333 & 3600\\\\\n",
       "\\end{tabular}\n"
      ],
      "text/markdown": [
       "\n",
       "A data.frame: 6 × 4\n",
       "\n",
       "| Estacion &lt;chr&gt; | x &lt;dbl&gt; | y &lt;dbl&gt; | Alt &lt;int&gt; |\n",
       "|---|---|---|---|\n",
       "| San Miguel      | -73.98333 | -13.01667 | 3323 |\n",
       "| Hacienda Cochas | -73.88333 | -13.03333 | 3323 |\n",
       "| La Quinua       | -74.14139 | -13.05528 | 3240 |\n",
       "| Wayllapampa     | -74.21667 | -13.07639 | 2470 |\n",
       "| Huamanga        | -74.23694 | -13.15000 | 2761 |\n",
       "| Allpachaca      | -74.26667 | -13.38333 | 3600 |\n",
       "\n"
      ],
      "text/plain": [
       "  Estacion        x         y         Alt \n",
       "1 San Miguel      -73.98333 -13.01667 3323\n",
       "2 Hacienda Cochas -73.88333 -13.03333 3323\n",
       "3 La Quinua       -74.14139 -13.05528 3240\n",
       "4 Wayllapampa     -74.21667 -13.07639 2470\n",
       "5 Huamanga        -74.23694 -13.15000 2761\n",
       "6 Allpachaca      -74.26667 -13.38333 3600"
      ]
     },
     "metadata": {},
     "output_type": "display_data"
    }
   ],
   "source": [
    "Huarpa.stations<-read.csv('D:/Proyectos_GitHub/curso_hidrologia/data/Estaciones/Huarpa.estaciones.csv',sep=';')\n",
    "Huarpa.stations"
   ]
  },
  {
   "cell_type": "markdown",
   "id": "494ece6c",
   "metadata": {},
   "source": [
    "## Creamos una función auxiliar para crear un dataframe con información espacial de la ubicación de las estaciones"
   ]
  },
  {
   "cell_type": "code",
   "execution_count": 17,
   "id": "bb2ed9b9",
   "metadata": {},
   "outputs": [],
   "source": [
    "points_wgs84=function(data){\n",
    "  coordinates(data) <- ~x+y\n",
    "  proj4string(data)='+proj=longlat +datum=WGS84 +no_defs +ellps=WGS84 +towgs84=0,0,0'\n",
    "  data\n",
    "}"
   ]
  },
  {
   "cell_type": "code",
   "execution_count": 18,
   "id": "cd548667",
   "metadata": {},
   "outputs": [],
   "source": [
    "estaciones=points_wgs84(Huarpa.stations)"
   ]
  },
  {
   "cell_type": "markdown",
   "id": "1aadde60",
   "metadata": {},
   "source": [
    "## Cargamos la información raster"
   ]
  },
  {
   "cell_type": "code",
   "execution_count": 9,
   "id": "4785bbe6",
   "metadata": {},
   "outputs": [
    {
     "name": "stderr",
     "output_type": "stream",
     "text": [
      "Loading required namespace: ncdf4\n",
      "\n"
     ]
    }
   ],
   "source": [
    "pisco_raster=stack(PISCO.file)\n",
    "pisco_raster=setZ(pisco_raster, seq(as.Date(\"1981-01-01\"), as.Date(\"2016-12-31\"), by = \"day\"))"
   ]
  },
  {
   "cell_type": "markdown",
   "id": "073d9324",
   "metadata": {},
   "source": [
    "## Extraemos los valores del stack de raster en las ubicaciones de las estaciones"
   ]
  },
  {
   "cell_type": "code",
   "execution_count": 50,
   "id": "00a51162",
   "metadata": {},
   "outputs": [],
   "source": [
    "data_diaria <-data.frame(t(round(extract(pisco_raster, estaciones),2)))\n",
    "names(data_diaria) <- Huarpa.stations$Estacion"
   ]
  },
  {
   "cell_type": "code",
   "execution_count": 51,
   "id": "5a72943f",
   "metadata": {},
   "outputs": [],
   "source": [
    "date=seq(as.Date(\"1981-01-01\"), as.Date(\"2016-12-31\"), by = \"day\")\n",
    "data_diaria = cbind(date,data_diaria)"
   ]
  },
  {
   "cell_type": "code",
   "execution_count": 68,
   "id": "fbf111d8",
   "metadata": {},
   "outputs": [
    {
     "data": {
      "text/html": [
       "<table class=\"dataframe\">\n",
       "<caption>A data.frame: 10 × 7</caption>\n",
       "<thead>\n",
       "\t<tr><th></th><th scope=col>date</th><th scope=col>San Miguel</th><th scope=col>Hacienda Cochas</th><th scope=col>La Quinua</th><th scope=col>Wayllapampa</th><th scope=col>Huamanga</th><th scope=col>Allpachaca</th></tr>\n",
       "\t<tr><th></th><th scope=col>&lt;date&gt;</th><th scope=col>&lt;dbl&gt;</th><th scope=col>&lt;dbl&gt;</th><th scope=col>&lt;dbl&gt;</th><th scope=col>&lt;dbl&gt;</th><th scope=col>&lt;dbl&gt;</th><th scope=col>&lt;dbl&gt;</th></tr>\n",
       "</thead>\n",
       "<tbody>\n",
       "\t<tr><th scope=row>X0</th><td>1981-01-01</td><td>1.58</td><td>2.13</td><td>1.80</td><td>0.96</td><td> 0.78</td><td>0.00</td></tr>\n",
       "\t<tr><th scope=row>X1</th><td>1981-01-02</td><td>0.00</td><td>0.00</td><td>0.86</td><td>3.12</td><td> 2.72</td><td>0.55</td></tr>\n",
       "\t<tr><th scope=row>X2</th><td>1981-01-03</td><td>3.29</td><td>4.38</td><td>3.07</td><td>1.14</td><td> 0.89</td><td>0.00</td></tr>\n",
       "\t<tr><th scope=row>X3</th><td>1981-01-04</td><td>0.00</td><td>0.00</td><td>0.00</td><td>0.00</td><td> 0.85</td><td>1.58</td></tr>\n",
       "\t<tr><th scope=row>X4</th><td>1981-01-05</td><td>2.38</td><td>3.22</td><td>4.08</td><td>6.90</td><td> 6.37</td><td>2.74</td></tr>\n",
       "\t<tr><th scope=row>X5</th><td>1981-01-06</td><td>1.71</td><td>4.35</td><td>3.04</td><td>9.09</td><td> 4.88</td><td>3.75</td></tr>\n",
       "\t<tr><th scope=row>X6</th><td>1981-01-07</td><td>0.13</td><td>0.17</td><td>0.02</td><td>0.01</td><td> 0.04</td><td>0.38</td></tr>\n",
       "\t<tr><th scope=row>X7</th><td>1981-01-08</td><td>0.02</td><td>0.00</td><td>0.04</td><td>0.02</td><td> 0.08</td><td>0.09</td></tr>\n",
       "\t<tr><th scope=row>X8</th><td>1981-01-09</td><td>0.35</td><td>0.00</td><td>8.77</td><td>7.87</td><td>13.52</td><td>1.55</td></tr>\n",
       "\t<tr><th scope=row>X9</th><td>1981-01-10</td><td>0.69</td><td>0.67</td><td>0.03</td><td>0.00</td><td> 0.00</td><td>2.06</td></tr>\n",
       "</tbody>\n",
       "</table>\n"
      ],
      "text/latex": [
       "A data.frame: 10 × 7\n",
       "\\begin{tabular}{r|lllllll}\n",
       "  & date & San Miguel & Hacienda Cochas & La Quinua & Wayllapampa & Huamanga & Allpachaca\\\\\n",
       "  & <date> & <dbl> & <dbl> & <dbl> & <dbl> & <dbl> & <dbl>\\\\\n",
       "\\hline\n",
       "\tX0 & 1981-01-01 & 1.58 & 2.13 & 1.80 & 0.96 &  0.78 & 0.00\\\\\n",
       "\tX1 & 1981-01-02 & 0.00 & 0.00 & 0.86 & 3.12 &  2.72 & 0.55\\\\\n",
       "\tX2 & 1981-01-03 & 3.29 & 4.38 & 3.07 & 1.14 &  0.89 & 0.00\\\\\n",
       "\tX3 & 1981-01-04 & 0.00 & 0.00 & 0.00 & 0.00 &  0.85 & 1.58\\\\\n",
       "\tX4 & 1981-01-05 & 2.38 & 3.22 & 4.08 & 6.90 &  6.37 & 2.74\\\\\n",
       "\tX5 & 1981-01-06 & 1.71 & 4.35 & 3.04 & 9.09 &  4.88 & 3.75\\\\\n",
       "\tX6 & 1981-01-07 & 0.13 & 0.17 & 0.02 & 0.01 &  0.04 & 0.38\\\\\n",
       "\tX7 & 1981-01-08 & 0.02 & 0.00 & 0.04 & 0.02 &  0.08 & 0.09\\\\\n",
       "\tX8 & 1981-01-09 & 0.35 & 0.00 & 8.77 & 7.87 & 13.52 & 1.55\\\\\n",
       "\tX9 & 1981-01-10 & 0.69 & 0.67 & 0.03 & 0.00 &  0.00 & 2.06\\\\\n",
       "\\end{tabular}\n"
      ],
      "text/markdown": [
       "\n",
       "A data.frame: 10 × 7\n",
       "\n",
       "| <!--/--> | date &lt;date&gt; | San Miguel &lt;dbl&gt; | Hacienda Cochas &lt;dbl&gt; | La Quinua &lt;dbl&gt; | Wayllapampa &lt;dbl&gt; | Huamanga &lt;dbl&gt; | Allpachaca &lt;dbl&gt; |\n",
       "|---|---|---|---|---|---|---|---|\n",
       "| X0 | 1981-01-01 | 1.58 | 2.13 | 1.80 | 0.96 |  0.78 | 0.00 |\n",
       "| X1 | 1981-01-02 | 0.00 | 0.00 | 0.86 | 3.12 |  2.72 | 0.55 |\n",
       "| X2 | 1981-01-03 | 3.29 | 4.38 | 3.07 | 1.14 |  0.89 | 0.00 |\n",
       "| X3 | 1981-01-04 | 0.00 | 0.00 | 0.00 | 0.00 |  0.85 | 1.58 |\n",
       "| X4 | 1981-01-05 | 2.38 | 3.22 | 4.08 | 6.90 |  6.37 | 2.74 |\n",
       "| X5 | 1981-01-06 | 1.71 | 4.35 | 3.04 | 9.09 |  4.88 | 3.75 |\n",
       "| X6 | 1981-01-07 | 0.13 | 0.17 | 0.02 | 0.01 |  0.04 | 0.38 |\n",
       "| X7 | 1981-01-08 | 0.02 | 0.00 | 0.04 | 0.02 |  0.08 | 0.09 |\n",
       "| X8 | 1981-01-09 | 0.35 | 0.00 | 8.77 | 7.87 | 13.52 | 1.55 |\n",
       "| X9 | 1981-01-10 | 0.69 | 0.67 | 0.03 | 0.00 |  0.00 | 2.06 |\n",
       "\n"
      ],
      "text/plain": [
       "   date       San Miguel Hacienda Cochas La Quinua Wayllapampa Huamanga\n",
       "X0 1981-01-01 1.58       2.13            1.80      0.96         0.78   \n",
       "X1 1981-01-02 0.00       0.00            0.86      3.12         2.72   \n",
       "X2 1981-01-03 3.29       4.38            3.07      1.14         0.89   \n",
       "X3 1981-01-04 0.00       0.00            0.00      0.00         0.85   \n",
       "X4 1981-01-05 2.38       3.22            4.08      6.90         6.37   \n",
       "X5 1981-01-06 1.71       4.35            3.04      9.09         4.88   \n",
       "X6 1981-01-07 0.13       0.17            0.02      0.01         0.04   \n",
       "X7 1981-01-08 0.02       0.00            0.04      0.02         0.08   \n",
       "X8 1981-01-09 0.35       0.00            8.77      7.87        13.52   \n",
       "X9 1981-01-10 0.69       0.67            0.03      0.00         0.00   \n",
       "   Allpachaca\n",
       "X0 0.00      \n",
       "X1 0.55      \n",
       "X2 0.00      \n",
       "X3 1.58      \n",
       "X4 2.74      \n",
       "X5 3.75      \n",
       "X6 0.38      \n",
       "X7 0.09      \n",
       "X8 1.55      \n",
       "X9 2.06      "
      ]
     },
     "metadata": {},
     "output_type": "display_data"
    }
   ],
   "source": [
    "head(data_diaria,10)"
   ]
  },
  {
   "cell_type": "markdown",
   "id": "3b43b2dc",
   "metadata": {},
   "source": [
    "## Para obtener datos mensuales tenemos que realizar una suma entre los dias de cada mes por cada año"
   ]
  },
  {
   "cell_type": "code",
   "execution_count": 69,
   "id": "b7c92398",
   "metadata": {},
   "outputs": [],
   "source": [
    "data_mensual=rowsum(data_diaria[,-1], format(data_diaria$date, \"%m-%Y\"),reorder = F )\n",
    "data_mensual=cbind(fecha=row.names(data_mensual),data.frame(data_mensual,row.names = NULL))"
   ]
  },
  {
   "cell_type": "code",
   "execution_count": 70,
   "id": "898fde9d",
   "metadata": {},
   "outputs": [
    {
     "data": {
      "text/html": [
       "<table class=\"dataframe\">\n",
       "<caption>A data.frame: 10 × 7</caption>\n",
       "<thead>\n",
       "\t<tr><th></th><th scope=col>fecha</th><th scope=col>San.Miguel</th><th scope=col>Hacienda.Cochas</th><th scope=col>La.Quinua</th><th scope=col>Wayllapampa</th><th scope=col>Huamanga</th><th scope=col>Allpachaca</th></tr>\n",
       "\t<tr><th></th><th scope=col>&lt;chr&gt;</th><th scope=col>&lt;dbl&gt;</th><th scope=col>&lt;dbl&gt;</th><th scope=col>&lt;dbl&gt;</th><th scope=col>&lt;dbl&gt;</th><th scope=col>&lt;dbl&gt;</th><th scope=col>&lt;dbl&gt;</th></tr>\n",
       "</thead>\n",
       "<tbody>\n",
       "\t<tr><th scope=row>1</th><td>01-1981</td><td>41.76</td><td>55.06</td><td> 79.56</td><td>101.94</td><td> 90.83</td><td> 44.64</td></tr>\n",
       "\t<tr><th scope=row>2</th><td>02-1981</td><td>66.56</td><td>78.13</td><td>124.63</td><td>205.45</td><td>185.73</td><td>140.60</td></tr>\n",
       "\t<tr><th scope=row>3</th><td>03-1981</td><td>54.86</td><td>68.75</td><td> 63.36</td><td> 78.20</td><td> 64.65</td><td> 51.55</td></tr>\n",
       "\t<tr><th scope=row>4</th><td>04-1981</td><td>10.66</td><td> 9.53</td><td> 13.60</td><td> 16.83</td><td> 17.09</td><td> 11.91</td></tr>\n",
       "\t<tr><th scope=row>5</th><td>05-1981</td><td> 6.88</td><td> 4.28</td><td> 12.74</td><td> 14.21</td><td>  6.96</td><td>  2.54</td></tr>\n",
       "\t<tr><th scope=row>6</th><td>06-1981</td><td> 1.42</td><td> 1.09</td><td>  5.33</td><td>  7.16</td><td>  7.93</td><td>  1.80</td></tr>\n",
       "\t<tr><th scope=row>7</th><td>07-1981</td><td> 0.30</td><td> 0.28</td><td>  1.24</td><td>  2.28</td><td>  1.76</td><td>  0.68</td></tr>\n",
       "\t<tr><th scope=row>8</th><td>08-1981</td><td> 1.66</td><td> 2.32</td><td>  0.40</td><td>  0.44</td><td>  2.18</td><td>  8.33</td></tr>\n",
       "\t<tr><th scope=row>9</th><td>09-1981</td><td>11.82</td><td> 8.76</td><td> 30.89</td><td> 40.93</td><td> 27.57</td><td> 11.39</td></tr>\n",
       "\t<tr><th scope=row>10</th><td>10-1981</td><td>33.81</td><td>32.86</td><td> 51.78</td><td> 62.23</td><td> 54.72</td><td> 24.25</td></tr>\n",
       "</tbody>\n",
       "</table>\n"
      ],
      "text/latex": [
       "A data.frame: 10 × 7\n",
       "\\begin{tabular}{r|lllllll}\n",
       "  & fecha & San.Miguel & Hacienda.Cochas & La.Quinua & Wayllapampa & Huamanga & Allpachaca\\\\\n",
       "  & <chr> & <dbl> & <dbl> & <dbl> & <dbl> & <dbl> & <dbl>\\\\\n",
       "\\hline\n",
       "\t1 & 01-1981 & 41.76 & 55.06 &  79.56 & 101.94 &  90.83 &  44.64\\\\\n",
       "\t2 & 02-1981 & 66.56 & 78.13 & 124.63 & 205.45 & 185.73 & 140.60\\\\\n",
       "\t3 & 03-1981 & 54.86 & 68.75 &  63.36 &  78.20 &  64.65 &  51.55\\\\\n",
       "\t4 & 04-1981 & 10.66 &  9.53 &  13.60 &  16.83 &  17.09 &  11.91\\\\\n",
       "\t5 & 05-1981 &  6.88 &  4.28 &  12.74 &  14.21 &   6.96 &   2.54\\\\\n",
       "\t6 & 06-1981 &  1.42 &  1.09 &   5.33 &   7.16 &   7.93 &   1.80\\\\\n",
       "\t7 & 07-1981 &  0.30 &  0.28 &   1.24 &   2.28 &   1.76 &   0.68\\\\\n",
       "\t8 & 08-1981 &  1.66 &  2.32 &   0.40 &   0.44 &   2.18 &   8.33\\\\\n",
       "\t9 & 09-1981 & 11.82 &  8.76 &  30.89 &  40.93 &  27.57 &  11.39\\\\\n",
       "\t10 & 10-1981 & 33.81 & 32.86 &  51.78 &  62.23 &  54.72 &  24.25\\\\\n",
       "\\end{tabular}\n"
      ],
      "text/markdown": [
       "\n",
       "A data.frame: 10 × 7\n",
       "\n",
       "| <!--/--> | fecha &lt;chr&gt; | San.Miguel &lt;dbl&gt; | Hacienda.Cochas &lt;dbl&gt; | La.Quinua &lt;dbl&gt; | Wayllapampa &lt;dbl&gt; | Huamanga &lt;dbl&gt; | Allpachaca &lt;dbl&gt; |\n",
       "|---|---|---|---|---|---|---|---|\n",
       "| 1 | 01-1981 | 41.76 | 55.06 |  79.56 | 101.94 |  90.83 |  44.64 |\n",
       "| 2 | 02-1981 | 66.56 | 78.13 | 124.63 | 205.45 | 185.73 | 140.60 |\n",
       "| 3 | 03-1981 | 54.86 | 68.75 |  63.36 |  78.20 |  64.65 |  51.55 |\n",
       "| 4 | 04-1981 | 10.66 |  9.53 |  13.60 |  16.83 |  17.09 |  11.91 |\n",
       "| 5 | 05-1981 |  6.88 |  4.28 |  12.74 |  14.21 |   6.96 |   2.54 |\n",
       "| 6 | 06-1981 |  1.42 |  1.09 |   5.33 |   7.16 |   7.93 |   1.80 |\n",
       "| 7 | 07-1981 |  0.30 |  0.28 |   1.24 |   2.28 |   1.76 |   0.68 |\n",
       "| 8 | 08-1981 |  1.66 |  2.32 |   0.40 |   0.44 |   2.18 |   8.33 |\n",
       "| 9 | 09-1981 | 11.82 |  8.76 |  30.89 |  40.93 |  27.57 |  11.39 |\n",
       "| 10 | 10-1981 | 33.81 | 32.86 |  51.78 |  62.23 |  54.72 |  24.25 |\n",
       "\n"
      ],
      "text/plain": [
       "   fecha   San.Miguel Hacienda.Cochas La.Quinua Wayllapampa Huamanga Allpachaca\n",
       "1  01-1981 41.76      55.06            79.56    101.94       90.83    44.64    \n",
       "2  02-1981 66.56      78.13           124.63    205.45      185.73   140.60    \n",
       "3  03-1981 54.86      68.75            63.36     78.20       64.65    51.55    \n",
       "4  04-1981 10.66       9.53            13.60     16.83       17.09    11.91    \n",
       "5  05-1981  6.88       4.28            12.74     14.21        6.96     2.54    \n",
       "6  06-1981  1.42       1.09             5.33      7.16        7.93     1.80    \n",
       "7  07-1981  0.30       0.28             1.24      2.28        1.76     0.68    \n",
       "8  08-1981  1.66       2.32             0.40      0.44        2.18     8.33    \n",
       "9  09-1981 11.82       8.76            30.89     40.93       27.57    11.39    \n",
       "10 10-1981 33.81      32.86            51.78     62.23       54.72    24.25    "
      ]
     },
     "metadata": {},
     "output_type": "display_data"
    }
   ],
   "source": [
    "head(data_mensual,10)"
   ]
  },
  {
   "cell_type": "markdown",
   "id": "00283236",
   "metadata": {},
   "source": [
    "## Guardamos nuestros resultados en archivos csv"
   ]
  },
  {
   "cell_type": "code",
   "execution_count": 71,
   "id": "da0f204b",
   "metadata": {},
   "outputs": [],
   "source": [
    "write.table(data_diaria,'D:/Proyectos_GitHub/curso_hidrologia/data/Estaciones/Huarpa_diario.csv',sep = ',',row.names = F)\n",
    "write.table(data_mensual,'D:/Proyectos_GitHub/curso_hidrologia/data/Estaciones/Huarpa_mensual.csv',sep = ',',row.names = F)"
   ]
  }
 ],
 "metadata": {
  "kernelspec": {
   "display_name": "R",
   "language": "R",
   "name": "ir"
  },
  "language_info": {
   "codemirror_mode": "r",
   "file_extension": ".r",
   "mimetype": "text/x-r-source",
   "name": "R",
   "pygments_lexer": "r",
   "version": "4.0.3"
  }
 },
 "nbformat": 4,
 "nbformat_minor": 5
}
