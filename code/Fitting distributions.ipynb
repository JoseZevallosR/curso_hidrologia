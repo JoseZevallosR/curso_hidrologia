{
 "cells": [
  {
   "cell_type": "code",
   "execution_count": 42,
   "id": "9f90ad09",
   "metadata": {},
   "outputs": [],
   "source": [
    "import pandas as pd\n",
    "import numpy as np\n",
    "from scipy.stats import norm, chisquare\n",
    "from scipy.stats import kstest\n",
    "import scipy.stats as stats\n",
    "import matplotlib.pyplot as plt\n",
    "\n",
    "# Load your data into a DataFrame\n",
    "df = pd.read_csv('../data/Estaciones/Huarpa_mensual.csv')"
   ]
  },
  {
   "cell_type": "code",
   "execution_count": 25,
   "id": "1638f537",
   "metadata": {},
   "outputs": [
    {
     "data": {
      "text/html": [
       "<div>\n",
       "<style scoped>\n",
       "    .dataframe tbody tr th:only-of-type {\n",
       "        vertical-align: middle;\n",
       "    }\n",
       "\n",
       "    .dataframe tbody tr th {\n",
       "        vertical-align: top;\n",
       "    }\n",
       "\n",
       "    .dataframe thead th {\n",
       "        text-align: right;\n",
       "    }\n",
       "</style>\n",
       "<table border=\"1\" class=\"dataframe\">\n",
       "  <thead>\n",
       "    <tr style=\"text-align: right;\">\n",
       "      <th></th>\n",
       "      <th>fecha</th>\n",
       "      <th>San.Miguel</th>\n",
       "      <th>Hacienda.Cochas</th>\n",
       "      <th>La.Quinua</th>\n",
       "      <th>Wayllapampa</th>\n",
       "      <th>Huamanga</th>\n",
       "      <th>Allpachaca</th>\n",
       "    </tr>\n",
       "  </thead>\n",
       "  <tbody>\n",
       "    <tr>\n",
       "      <th>0</th>\n",
       "      <td>01-1981</td>\n",
       "      <td>41.76</td>\n",
       "      <td>55.06</td>\n",
       "      <td>79.56</td>\n",
       "      <td>101.94</td>\n",
       "      <td>90.83</td>\n",
       "      <td>44.64</td>\n",
       "    </tr>\n",
       "    <tr>\n",
       "      <th>1</th>\n",
       "      <td>02-1981</td>\n",
       "      <td>66.56</td>\n",
       "      <td>78.13</td>\n",
       "      <td>124.63</td>\n",
       "      <td>205.45</td>\n",
       "      <td>185.73</td>\n",
       "      <td>140.60</td>\n",
       "    </tr>\n",
       "    <tr>\n",
       "      <th>2</th>\n",
       "      <td>03-1981</td>\n",
       "      <td>54.86</td>\n",
       "      <td>68.75</td>\n",
       "      <td>63.36</td>\n",
       "      <td>78.20</td>\n",
       "      <td>64.65</td>\n",
       "      <td>51.55</td>\n",
       "    </tr>\n",
       "    <tr>\n",
       "      <th>3</th>\n",
       "      <td>04-1981</td>\n",
       "      <td>10.66</td>\n",
       "      <td>9.53</td>\n",
       "      <td>13.60</td>\n",
       "      <td>16.83</td>\n",
       "      <td>17.09</td>\n",
       "      <td>11.91</td>\n",
       "    </tr>\n",
       "    <tr>\n",
       "      <th>4</th>\n",
       "      <td>05-1981</td>\n",
       "      <td>6.88</td>\n",
       "      <td>4.28</td>\n",
       "      <td>12.74</td>\n",
       "      <td>14.21</td>\n",
       "      <td>6.96</td>\n",
       "      <td>2.54</td>\n",
       "    </tr>\n",
       "  </tbody>\n",
       "</table>\n",
       "</div>"
      ],
      "text/plain": [
       "     fecha  San.Miguel  Hacienda.Cochas  La.Quinua  Wayllapampa  Huamanga  \\\n",
       "0  01-1981       41.76            55.06      79.56       101.94     90.83   \n",
       "1  02-1981       66.56            78.13     124.63       205.45    185.73   \n",
       "2  03-1981       54.86            68.75      63.36        78.20     64.65   \n",
       "3  04-1981       10.66             9.53      13.60        16.83     17.09   \n",
       "4  05-1981        6.88             4.28      12.74        14.21      6.96   \n",
       "\n",
       "   Allpachaca  \n",
       "0       44.64  \n",
       "1      140.60  \n",
       "2       51.55  \n",
       "3       11.91  \n",
       "4        2.54  "
      ]
     },
     "execution_count": 25,
     "metadata": {},
     "output_type": "execute_result"
    }
   ],
   "source": [
    "df.head(5)"
   ]
  },
  {
   "cell_type": "code",
   "execution_count": 26,
   "id": "a74c037d",
   "metadata": {},
   "outputs": [
    {
     "name": "stdout",
     "output_type": "stream",
     "text": [
      "The data does not follow the fitted distribution (p-value: 1.009817811447687e-13)\n"
     ]
    },
    {
     "data": {
      "image/png": "[encoded data removed]",
      "text/plain": [
       "<Figure size 640x480 with 1 Axes>"
      ]
     },
     "metadata": {},
     "output_type": "display_data"
    }
   ],
   "source": [
    "# Assuming your data is in a column called 'data_column'\n",
    "data = df['Hacienda.Cochas']\n",
    "\n",
    "# Fit a distribution (e.g., normal distribution) to the data\n",
    "params = norm.fit(data)\n",
    "\n",
    "# Extract the parameters of the fitted distribution\n",
    "loc, scale = params\n",
    "\n",
    "# Generate random data from the fitted distribution to compare with the original data\n",
    "fitted_distribution = norm(loc=loc, scale=scale)\n",
    "fitted_data = fitted_distribution.rvs(size=len(data))\n",
    "\n",
    "# Plot a histogram of your data and the fitted distribution\n",
    "plt.hist(data, bins=20, density=True, alpha=0.6, color='b', label='Actual Data')\n",
    "plt.hist(fitted_data, bins=20, density=True, alpha=0.6, color='r', label='Fitted Distribution')\n",
    "plt.legend()\n",
    "\n",
    "# Perform a goodness-of-fit test (Kolmogorov-Smirnov test)\n",
    "ks_statistic, ks_p_value = kstest(data, fitted_distribution.cdf)\n",
    "alpha = 0.05  # Significance level\n",
    "\n",
    "# Print the results of the goodness-of-fit test\n",
    "if ks_p_value < alpha:\n",
    "    print(f\"The data does not follow the fitted distribution (p-value: {ks_p_value})\")\n",
    "else:\n",
    "    print(f\"The data follows the fitted distribution (p-value: {ks_p_value})\")\n",
    "\n",
    "\n",
    "plt.show()\n"
   ]
  },
  {
   "cell_type": "code",
   "execution_count": 33,
   "id": "0127c902",
   "metadata": {},
   "outputs": [],
   "source": [
    "import numpy as np\n",
    "from scipy.stats import norm, gamma, lognorm, gumbel_r, loggamma, kstest\n",
    "\n",
    "def fit_and_test_distributions(data, distribution_names):\n",
    "    results = {}\n",
    "\n",
    "    for distribution_name in distribution_names:\n",
    "        if distribution_name == 'normal':\n",
    "            params = norm.fit(data)\n",
    "            fitted_distribution = norm(loc=params[0], scale=params[1])\n",
    "        elif distribution_name == 'gamma2':\n",
    "            params = gamma.fit(data, floc=0)\n",
    "            fitted_distribution = gamma(params[0], loc=0, scale=params[2])\n",
    "        elif distribution_name == 'gamma3':\n",
    "            params = gamma.fit(data)\n",
    "            fitted_distribution = gamma(params[0], loc=params[1], scale=params[2])\n",
    "        elif distribution_name == 'logpearson':\n",
    "            params = lognorm.fit(data, floc=0)\n",
    "            fitted_distribution = lognorm(params[0], loc=0, scale=params[2])\n",
    "        elif distribution_name == 'gumbel':\n",
    "            params = gumbel_r.fit(data)\n",
    "            fitted_distribution = gumbel_r(loc=params[0], scale=params[1])\n",
    "        elif distribution_name == 'loggumbel':\n",
    "            params = loggamma.fit(data)\n",
    "            fitted_distribution = loggamma(params[0], loc=params[1], scale=params[2])\n",
    "        elif distribution_name == 'lognorm2':\n",
    "            params = lognorm.fit(data, floc=0, f0=1)\n",
    "            fitted_distribution = lognorm(params[0], loc=0, scale=params[2])\n",
    "        elif distribution_name == 'lognorm3':\n",
    "            params = lognorm.fit(data)\n",
    "            fitted_distribution = lognorm(params[0], loc=params[1], scale=params[2])\n",
    "\n",
    "        ks_statistic, ks_p_value = kstest(data, fitted_distribution.cdf)\n",
    "        results[distribution_name] = {'params': params, 'ks_statistic': ks_statistic, 'ks_p_value': ks_p_value}\n",
    "\n",
    "    return results\n"
   ]
  },
  {
   "cell_type": "code",
   "execution_count": 35,
   "id": "fcfb333c",
   "metadata": {},
   "outputs": [
    {
     "name": "stdout",
     "output_type": "stream",
     "text": [
      "--- normal ---\n",
      "Parameters: (27.099629629629632, 28.3310044933738)\n",
      "KS Statistic: 0.18716519907340445\n",
      "KS p-value: 1.009817811447687e-13\n",
      "--- gamma2 ---\n",
      "Parameters: (0.7756452498856257, 0, 34.93817519494339)\n",
      "KS Statistic: 0.06974009690580801\n",
      "KS p-value: 0.02849540730666933\n",
      "--- gamma3 ---\n",
      "Parameters: (0.7482944775495306, 0.11999999999999997, 40.94812090507892)\n",
      "KS Statistic: 0.09155221380436174\n",
      "KS p-value: 0.0013338017112808653\n",
      "--- logpearson ---\n",
      "Parameters: (1.4614254096644248, 0.0, 12.568785316195923)\n",
      "KS Statistic: 0.0828955942403714\n",
      "KS p-value: 0.004964777473678307\n",
      "--- gumbel ---\n",
      "Parameters: (14.794068327854385, 18.70386794055996)\n",
      "KS Statistic: 0.15318873302656222\n",
      "KS p-value: 2.5644533942210735e-09\n",
      "--- loggumbel ---\n",
      "Parameters: (1595.791952576983, -8381.2522829751, 1140.1207098851137)\n",
      "KS Statistic: 0.1853773623144131\n",
      "KS p-value: 1.813546714675806e-13\n",
      "--- lognorm2 ---\n",
      "Parameters: (1.0, 0.0, 12.568785316195923)\n",
      "KS Statistic: 0.1729570757961031\n",
      "KS p-value: 9.033083526045474e-12\n",
      "--- lognorm3 ---\n",
      "Parameters: (1.367939075447246, -0.26614466264354686, 13.364919481136377)\n",
      "KS Statistic: 0.08631337998174049\n",
      "KS p-value: 0.0030013621339224465\n"
     ]
    }
   ],
   "source": [
    "# Example usage:\n",
    "if __name__ == \"__main__\":\n",
    "    import pandas as pd\n",
    "    import matplotlib.pyplot as plt\n",
    "\n",
    "    # Load your data into a DataFrame\n",
    "    df = pd.read_csv('../data/Estaciones/Huarpa_mensual.csv')\n",
    "\n",
    "    # Assuming your data is in a column called 'data_column'\n",
    "    data = df['Hacienda.Cochas']\n",
    "\n",
    "    distribution_names = ['normal', 'gamma2', 'gamma3', 'logpearson', 'gumbel', 'loggumbel','lognorm2','lognorm3']\n",
    "    results = fit_and_test_distributions(data, distribution_names)\n",
    "\n",
    "    for distribution_name, result in results.items():\n",
    "        print(f\"--- {distribution_name} ---\")\n",
    "        print(\"Parameters:\", result['params'])\n",
    "        print(\"KS Statistic:\", result['ks_statistic'])\n",
    "        print(\"KS p-value:\", result['ks_p_value'])\n"
   ]
  },
  {
   "cell_type": "code",
   "execution_count": 36,
   "id": "64fd3a5b",
   "metadata": {},
   "outputs": [],
   "source": [
    "def select_best_distribution(results):\n",
    "    best_distribution = None\n",
    "    best_ks_statistic = float('inf')  # Initialize with a high value\n",
    "    best_ks_p_value = 0.0  # Initialize with a low value\n",
    "\n",
    "    for distribution_name, result in results.items():\n",
    "        ks_statistic = result['ks_statistic']\n",
    "        ks_p_value = result['ks_p_value']\n",
    "\n",
    "        if ks_statistic < best_ks_statistic or (ks_statistic == best_ks_statistic and ks_p_value > best_ks_p_value):\n",
    "            best_distribution = distribution_name\n",
    "            best_ks_statistic = ks_statistic\n",
    "            best_ks_p_value = ks_p_value\n",
    "\n",
    "    return best_distribution, best_ks_statistic, best_ks_p_value\n"
   ]
  },
  {
   "cell_type": "code",
   "execution_count": 37,
   "id": "01d57f00",
   "metadata": {},
   "outputs": [],
   "source": [
    "best_distribution, best_ks_statistic, best_ks_p_value = select_best_distribution(results)"
   ]
  },
  {
   "cell_type": "code",
   "execution_count": 38,
   "id": "e8cf3633",
   "metadata": {},
   "outputs": [
    {
     "name": "stdout",
     "output_type": "stream",
     "text": [
      "Best-fit distribution: gamma2\n",
      "KS Statistic: 0.06974009690580801\n",
      "KS p-value: 0.02849540730666933\n"
     ]
    }
   ],
   "source": [
    "print(f\"Best-fit distribution: {best_distribution}\")\n",
    "print(\"KS Statistic:\", best_ks_statistic)\n",
    "print(\"KS p-value:\", best_ks_p_value)"
   ]
  },
  {
   "cell_type": "code",
   "execution_count": 49,
   "id": "9c91aee9",
   "metadata": {},
   "outputs": [],
   "source": [
    "def plot_fitted_distributions(data, best_distribution, params, title='Fitted Distribution and Q-Q Plot'):\n",
    "    # Create a Q-Q plot\n",
    "    plt.figure(figsize=(12, 5))\n",
    "\n",
    "    plt.subplot(1, 2, 1)\n",
    "    plt.title(f'{best_distribution} Q-Q Plot')\n",
    "    loc = params[0]  # Location parameter\n",
    "    stats.probplot(data, dist=best_distribution, sparams=params[1:], plot=plt, loc=loc)\n",
    "\n",
    "    # Create a histogram of the data\n",
    "    plt.subplot(1, 2, 2)\n",
    "    plt.title(f'{best_distribution} Fitted Distribution vs. Data')\n",
    "    plt.hist(data, bins=20, density=True, alpha=0.6, color='b', label='Actual Data')\n",
    "\n",
    "    # Generate random data from the fitted distribution\n",
    "    fitted_distribution = stats.rv_continuous(name=best_distribution, shapes=params[1:], a=loc)\n",
    "    x = np.linspace(data.min(), data.max(), 100)\n",
    "    plt.plot(x, fitted_distribution.pdf(x), 'r', label=f'Fitted {best_distribution}')\n",
    "    plt.legend()\n",
    "\n",
    "    plt.tight_layout()\n",
    "    plt.show()"
   ]
  },
  {
   "cell_type": "code",
   "execution_count": null,
   "id": "04639be6",
   "metadata": {},
   "outputs": [],
   "source": [
    "params = results[best_distribution]['params']\n",
    "\n",
    "plot_fitted_distributions(data, 'gamma', params)"
   ]
  },
  {
   "cell_type": "code",
   "execution_count": null,
   "id": "171e82d3",
   "metadata": {},
   "outputs": [],
   "source": []
  }
 ],
 "metadata": {
  "kernelspec": {
   "display_name": "Python 3 (ipykernel)",
   "language": "python",
   "name": "python3"
  },
  "language_info": {
   "codemirror_mode": {
    "name": "ipython",
    "version": 3
   },
   "file_extension": ".py",
   "mimetype": "text/x-python",
   "name": "python",
   "nbconvert_exporter": "python",
   "pygments_lexer": "ipython3",
   "version": "3.9.13"
  }
 },
 "nbformat": 4,
 "nbformat_minor": 5
}
