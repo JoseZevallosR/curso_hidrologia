{
 "cells": [
  {
   "cell_type": "code",
   "execution_count": 9,
   "id": "russian-combine",
   "metadata": {},
   "outputs": [],
   "source": [
    "#Liberia para gestionar fechas\n",
    "library(lubridate)\n",
    "#libreria para manejar bases de datos\n",
    "library(dplyr)\n",
    "#libreria para ajustar distribuciones\n",
    "library(MASS)"
   ]
  },
  {
   "cell_type": "code",
   "execution_count": 10,
   "id": "aquatic-saturn",
   "metadata": {},
   "outputs": [],
   "source": [
    "estacion=read.csv('D:/Proyectos_GitHub/curso_hidrologia/data/Estaciones/estacion9.csv')"
   ]
  },
  {
   "cell_type": "markdown",
   "id": "optimum-daily",
   "metadata": {},
   "source": [
    "El operador %>% sirve para concatenar varias funciones y ahorrarnos lineas de comandos.\n",
    "Queremos calcular el maximo diario ocurrido en cada año de registro"
   ]
  },
  {
   "cell_type": "code",
   "execution_count": 11,
   "id": "iraqi-simon",
   "metadata": {},
   "outputs": [],
   "source": [
    "max_anual=estacion%>%\n",
    "  mutate(fecha = as.Date(fecha, format=\"%m/%d/%Y\"))%>% \n",
    "  mutate(mes = month(fecha),ano=year(fecha))%>%\n",
    "  group_by(ano) %>%\n",
    "  summarise(precip= max(pp,na.rm=T))"
   ]
  },
  {
   "cell_type": "code",
   "execution_count": 13,
   "id": "presidential-dutch",
   "metadata": {},
   "outputs": [
    {
     "data": {
      "text/html": [
       "<table>\n",
       "<thead><tr><th scope=col>ano</th><th scope=col>precip</th></tr></thead>\n",
       "<tbody>\n",
       "\t<tr><td>1964</td><td>23.0</td></tr>\n",
       "\t<tr><td>1965</td><td>31.4</td></tr>\n",
       "\t<tr><td>1966</td><td>38.0</td></tr>\n",
       "\t<tr><td>1967</td><td>42.1</td></tr>\n",
       "\t<tr><td>1968</td><td>24.6</td></tr>\n",
       "\t<tr><td>1969</td><td>25.1</td></tr>\n",
       "</tbody>\n",
       "</table>\n"
      ],
      "text/latex": [
       "\\begin{tabular}{r|ll}\n",
       " ano & precip\\\\\n",
       "\\hline\n",
       "\t 1964 & 23.0\\\\\n",
       "\t 1965 & 31.4\\\\\n",
       "\t 1966 & 38.0\\\\\n",
       "\t 1967 & 42.1\\\\\n",
       "\t 1968 & 24.6\\\\\n",
       "\t 1969 & 25.1\\\\\n",
       "\\end{tabular}\n"
      ],
      "text/markdown": [
       "\n",
       "| ano | precip |\n",
       "|---|---|\n",
       "| 1964 | 23.0 |\n",
       "| 1965 | 31.4 |\n",
       "| 1966 | 38.0 |\n",
       "| 1967 | 42.1 |\n",
       "| 1968 | 24.6 |\n",
       "| 1969 | 25.1 |\n",
       "\n"
      ],
      "text/plain": [
       "  ano  precip\n",
       "1 1964 23.0  \n",
       "2 1965 31.4  \n",
       "3 1966 38.0  \n",
       "4 1967 42.1  \n",
       "5 1968 24.6  \n",
       "6 1969 25.1  "
      ]
     },
     "metadata": {},
     "output_type": "display_data"
    }
   ],
   "source": [
    "head(max_anual)"
   ]
  },
  {
   "cell_type": "code",
   "execution_count": null,
   "id": "upper-halifax",
   "metadata": {},
   "outputs": [],
   "source": []
  }
 ],
 "metadata": {
  "kernelspec": {
   "display_name": "R",
   "language": "R",
   "name": "ir"
  },
  "language_info": {
   "codemirror_mode": "r",
   "file_extension": ".r",
   "mimetype": "text/x-r-source",
   "name": "R",
   "pygments_lexer": "r",
   "version": "3.6.1"
  }
 },
 "nbformat": 4,
 "nbformat_minor": 5
}
