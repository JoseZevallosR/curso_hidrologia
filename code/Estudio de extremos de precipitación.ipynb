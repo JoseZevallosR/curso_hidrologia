{
 "cells": [
  {
   "cell_type": "code",
   "execution_count": 9,
   "id": "latter-shirt",
   "metadata": {},
   "outputs": [],
   "source": [
    "#Liberia para gestionar fechas\n",
    "library(lubridate)\n",
    "#libreria para manejar bases de datos\n",
    "library(dplyr)\n",
    "#libreria para ajustar distribuciones\n",
    "library(MASS)"
   ]
  },
  {
   "cell_type": "code",
   "execution_count": 10,
   "id": "solar-hollow",
   "metadata": {},
   "outputs": [],
   "source": [
    "estacion=read.csv('D:/Proyectos_GitHub/curso_hidrologia/data/Estaciones/estacion9.csv')"
   ]
  },
  {
   "cell_type": "markdown",
   "id": "ordered-confidentiality",
   "metadata": {},
   "source": [
    "El operador %>% sirve para concatenar varias funciones y ahorrarnos lineas de comandos.\n",
    "Queremos calcular el maximo diario ocurrido en cada año de registro"
   ]
  },
  {
   "cell_type": "code",
   "execution_count": 11,
   "id": "crucial-runner",
   "metadata": {},
   "outputs": [],
   "source": [
    "max_anual=estacion%>%\n",
    "  mutate(fecha = as.Date(fecha, format=\"%m/%d/%Y\"))%>% \n",
    "  mutate(mes = month(fecha),ano=year(fecha))%>%\n",
    "  group_by(ano) %>%\n",
    "  summarise(precip= max(pp,na.rm=T))"
   ]
  },
  {
   "cell_type": "code",
   "execution_count": 13,
   "id": "crude-walnut",
   "metadata": {},
   "outputs": [
    {
     "data": {
      "text/html": [
       "<table>\n",
       "<thead><tr><th scope=col>ano</th><th scope=col>precip</th></tr></thead>\n",
       "<tbody>\n",
       "\t<tr><td>1964</td><td>23.0</td></tr>\n",
       "\t<tr><td>1965</td><td>31.4</td></tr>\n",
       "\t<tr><td>1966</td><td>38.0</td></tr>\n",
       "\t<tr><td>1967</td><td>42.1</td></tr>\n",
       "\t<tr><td>1968</td><td>24.6</td></tr>\n",
       "\t<tr><td>1969</td><td>25.1</td></tr>\n",
       "</tbody>\n",
       "</table>\n"
      ],
      "text/latex": [
       "\\begin{tabular}{r|ll}\n",
       " ano & precip\\\\\n",
       "\\hline\n",
       "\t 1964 & 23.0\\\\\n",
       "\t 1965 & 31.4\\\\\n",
       "\t 1966 & 38.0\\\\\n",
       "\t 1967 & 42.1\\\\\n",
       "\t 1968 & 24.6\\\\\n",
       "\t 1969 & 25.1\\\\\n",
       "\\end{tabular}\n"
      ],
      "text/markdown": [
       "\n",
       "| ano | precip |\n",
       "|---|---|\n",
       "| 1964 | 23.0 |\n",
       "| 1965 | 31.4 |\n",
       "| 1966 | 38.0 |\n",
       "| 1967 | 42.1 |\n",
       "| 1968 | 24.6 |\n",
       "| 1969 | 25.1 |\n",
       "\n"
      ],
      "text/plain": [
       "  ano  precip\n",
       "1 1964 23.0  \n",
       "2 1965 31.4  \n",
       "3 1966 38.0  \n",
       "4 1967 42.1  \n",
       "5 1968 24.6  \n",
       "6 1969 25.1  "
      ]
     },
     "metadata": {},
     "output_type": "display_data"
    }
   ],
   "source": [
    "head(max_anual)"
   ]
  },
  {
   "cell_type": "markdown",
   "id": "polar-fever",
   "metadata": {},
   "source": [
    "Ajuste de la distribucion normal en los datos"
   ]
  },
  {
   "cell_type": "code",
   "execution_count": 16,
   "id": "entire-receipt",
   "metadata": {},
   "outputs": [
    {
     "data": {
      "text/plain": [
       "      mean          sd    \n",
       "  33.0250000    7.5702575 \n",
       " ( 1.0498058) ( 0.7423248)"
      ]
     },
     "metadata": {},
     "output_type": "display_data"
    }
   ],
   "source": [
    "my_data=max_anual$precip\n",
    "fit <- fitdistr(my_data,densfun = 'normal')\n",
    "fit"
   ]
  },
  {
   "cell_type": "code",
   "execution_count": 17,
   "id": "german-preserve",
   "metadata": {},
   "outputs": [
    {
     "data": {
      "image/png": "[encoded data removed]",
      "text/plain": [
       "Plot with title \"\""
      ]
     },
     "metadata": {},
     "output_type": "display_data"
    }
   ],
   "source": [
    "hist(my_data, pch=20, breaks=25, prob=TRUE, main=\"\")\n",
    "curve(dnorm(x, fit$estimate[1], fit$estimate[2]), col=\"red\", lwd=2, add=T)"
   ]
  },
  {
   "cell_type": "markdown",
   "id": "psychological-fantasy",
   "metadata": {},
   "source": [
    "# Usando la liberia fitdistrplus "
   ]
  },
  {
   "cell_type": "code",
   "execution_count": 21,
   "id": "fifth-handy",
   "metadata": {},
   "outputs": [
    {
     "name": "stderr",
     "output_type": "stream",
     "text": [
      "Loading required package: survival\n"
     ]
    }
   ],
   "source": [
    "library(fitdistrplus)"
   ]
  },
  {
   "cell_type": "markdown",
   "id": "sporting-hypothetical",
   "metadata": {},
   "source": [
    "Probando las distribuciones weibull, gamma y lognormal"
   ]
  },
  {
   "cell_type": "code",
   "execution_count": 24,
   "id": "extraordinary-company",
   "metadata": {},
   "outputs": [
    {
     "name": "stdout",
     "output_type": "stream",
     "text": [
      "$start.arg\n",
      "$start.arg$shape\n",
      "[1] 5.087535\n",
      "\n",
      "$start.arg$scale\n",
      "[1] 35.97698\n",
      "\n",
      "\n",
      "$fix.arg\n",
      "NULL\n",
      "\n",
      "$start.arg\n",
      "$start.arg$shape\n",
      "[1] 19.03112\n",
      "\n",
      "$start.arg$rate\n",
      "[1] 0.576264\n",
      "\n",
      "\n",
      "$fix.arg\n",
      "NULL\n",
      "\n",
      "$start.arg\n",
      "$start.arg$meanlog\n",
      "[1] 3.470448\n",
      "\n",
      "$start.arg$sdlog\n",
      "[1] 0.2335916\n",
      "\n",
      "\n",
      "$fix.arg\n",
      "NULL\n",
      "\n"
     ]
    },
    {
     "data": {
      "text/plain": [
       "Fitting of the distribution ' lnorm ' by maximum likelihood \n",
       "Parameters : \n",
       "         estimate Std. Error\n",
       "meanlog 3.4704476 0.03239333\n",
       "sdlog   0.2335916 0.02290365\n",
       "Loglikelihood:  -178.6307   AIC:  361.2613   BIC:  365.1638 \n",
       "Correlation matrix:\n",
       "        meanlog sdlog\n",
       "meanlog       1     0\n",
       "sdlog         0     1\n"
      ]
     },
     "metadata": {},
     "output_type": "display_data"
    }
   ],
   "source": [
    "fit_w  <- fitdist(my_data, \"weibull\")\n",
    "fit_g  <- fitdist(my_data, \"gamma\")\n",
    "fit_ln <- fitdist(my_data, \"lnorm\")\n",
    "summary(fit_ln)"
   ]
  },
  {
   "cell_type": "markdown",
   "id": "prime-effort",
   "metadata": {},
   "source": [
    "Graficando los resultados"
   ]
  },
  {
   "cell_type": "code",
   "execution_count": 25,
   "id": "significant-deputy",
   "metadata": {},
   "outputs": [
    {
     "data": {
      "image/png": "[encoded data removed]",
      "text/plain": [
       "Plot with title \"P-P plot\""
      ]
     },
     "metadata": {},
     "output_type": "display_data"
    }
   ],
   "source": [
    "par(mfrow=c(2,2))\n",
    "plot.legend <- c(\"Weibull\", \"lognormal\", \"gamma\")\n",
    "denscomp(list(fit_w, fit_g, fit_ln), legendtext = plot.legend)\n",
    "cdfcomp (list(fit_w, fit_g, fit_ln), legendtext = plot.legend)\n",
    "qqcomp  (list(fit_w, fit_g, fit_ln), legendtext = plot.legend)\n",
    "ppcomp  (list(fit_w, fit_g, fit_ln), legendtext = plot.legend)"
   ]
  },
  {
   "cell_type": "markdown",
   "id": "dedicated-thing",
   "metadata": {},
   "source": [
    "El paquete también proporciona algunas estadísticas interesantes:"
   ]
  },
  {
   "cell_type": "code",
   "execution_count": 27,
   "id": "thorough-growth",
   "metadata": {},
   "outputs": [
    {
     "data": {
      "text/plain": [
       "Goodness-of-fit statistics\n",
       "                                Weibull  lognormal      gamma\n",
       "Kolmogorov-Smirnov statistic 0.09453402 0.08296080 0.09324416\n",
       "Cramer-von Mises statistic   0.06175074 0.06636964 0.07316471\n",
       "Anderson-Darling statistic   0.41448822 0.34705130 0.39052484\n",
       "\n",
       "Goodness-of-fit criteria\n",
       "                                Weibull lognormal    gamma\n",
       "Akaike's Information Criterion 363.5471  360.8297 361.2613\n",
       "Bayesian Information Criterion 367.4496  364.7321 365.1638"
      ]
     },
     "metadata": {},
     "output_type": "display_data"
    }
   ],
   "source": [
    "gofstat(list(fit_w, fit_g, fit_ln), fitnames = c(\"Weibull\", \"lognormal\", \"gamma\"))"
   ]
  },
  {
   "cell_type": "code",
   "execution_count": null,
   "id": "dedicated-indonesian",
   "metadata": {},
   "outputs": [],
   "source": []
  }
 ],
 "metadata": {
  "kernelspec": {
   "display_name": "R",
   "language": "R",
   "name": "ir"
  },
  "language_info": {
   "codemirror_mode": "r",
   "file_extension": ".r",
   "mimetype": "text/x-r-source",
   "name": "R",
   "pygments_lexer": "r",
   "version": "3.6.1"
  }
 },
 "nbformat": 4,
 "nbformat_minor": 5
}
